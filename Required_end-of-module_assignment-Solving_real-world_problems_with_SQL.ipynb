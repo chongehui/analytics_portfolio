{
 "cells": [
  {
   "cell_type": "markdown",
   "metadata": {
    "nbgrader": {
     "grade": false,
     "grade_id": "cell-5e4e95933a6caf1a",
     "locked": true,
     "schema_version": 1,
     "solution": false
    }
   },
   "source": [
    "# Required end-of-module assignment: Solving real-world problems with SQL\n",
    "---\n",
    "\n",
    "## Overview\n",
    "\n",
    "In this assignment, you will bring together all the skills you have learned in Module 6.\n",
    "\n",
    "This assignment is designed to build your familiarity and comfort coding in Python while also helping you review key topics from each module. As you progress through the assignment, questions will get increasingly more complex. It is important that you adopt a programmer's mindset when completing this activity. Remember to run your code from each cell before submitting your activity, as doing so will give you a chance to fix any errors before submitting.\n",
    " \n",
    "Please refer to the database schemas provided in case you need more details about the database schema.\n",
    " \n",
    "### Learning outcomes addressed\n",
    "- Explore a new database.\n",
    "- Develop complex queries incrementally.\n",
    "- Interface with SQL databases from Python."
   ]
  },
  {
   "cell_type": "markdown",
   "metadata": {
    "nbgrader": {
     "grade": false,
     "grade_id": "Index",
     "locked": true,
     "schema_version": 1,
     "solution": false
    }
   },
   "source": [
    "\n",
    "\n",
    "## Index:\n",
    "\n",
    "- [Question 1](#Question-1)\n",
    "- [Question 2](#Question-2)\n",
    "- [Question 3](#Question-3)\n",
    "- [Question 4](#Question-4)\n",
    "- [Question 5](#Question-5)\n",
    "- [Question 6](#Question-6)\n",
    "- [Question 7](#Question-7)\n",
    "- [Question 8](#Question-8)\n",
    "- [Question 9](#Question-9)\n",
    "- [Question 10](#Question-10)"
   ]
  },
  {
   "cell_type": "markdown",
   "metadata": {
    "nbgrader": {
     "grade": false,
     "grade_id": "intro_import",
     "locked": true,
     "schema_version": 1,
     "solution": false
    }
   },
   "source": [
    "Run the cell below to import the required Python libraries."
   ]
  },
  {
   "cell_type": "code",
   "execution_count": 1,
   "metadata": {
    "nbgrader": {
     "grade": false,
     "grade_id": "imports1",
     "locked": true,
     "schema_version": 1,
     "solution": false
    }
   },
   "outputs": [],
   "source": [
    "#Imports\n",
    "import pandas as pd\n",
    "import psycopg2 as pg\n",
    "import numpy as np\n",
    "import matplotlib.pyplot as plt\n",
    "%matplotlib inline"
   ]
  },
  {
   "cell_type": "markdown",
   "metadata": {
    "nbgrader": {
     "grade": false,
     "grade_id": "intro_connection",
     "locked": true,
     "schema_version": 1,
     "solution": false
    }
   },
   "source": [
    "Run the cell below to create a connection to the **dvdrental** database."
   ]
  },
  {
   "cell_type": "code",
   "execution_count": 2,
   "metadata": {
    "nbgrader": {
     "grade": false,
     "grade_id": "connection_db",
     "locked": true,
     "schema_version": 1,
     "solution": false
    }
   },
   "outputs": [],
   "source": [
    "connection = pg.connect(host = 'localhost',\n",
    "                        database = 'dvdrental',\n",
    "                        user = 'postgres',\n",
    "                        password = 'codio')"
   ]
  },
  {
   "cell_type": "markdown",
   "metadata": {
    "nbgrader": {
     "grade": false,
     "grade_id": "Q1_description",
     "locked": true,
     "schema_version": 1,
     "solution": false
    }
   },
   "source": [
    "###### [Back to top](#Index:) \n",
    "\n",
    "### Question 1\n",
    "\n",
    "**Perform the following task using the `connection` defined above:**\n",
    "\n",
    "- Create a **cursor** object from the `connection`.\n",
    "- Use the cursor to **execute the following SQL query** stored in the variable `query` using the cursor's `execute` method.:\n",
    "  ```sql\n",
    "  SELECT * FROM customer LIMIT 5;\n",
    "  ```\n",
    "- Fetch the **first row only** from the result set using `.fetchone()`.\n",
    "- Assign the result (a single tuple) to a variable named **`ans1`**.\n",
    "- Close the cursor after fetching the result.\n",
    "\n",
    "**Note:**\n",
    "- Do not convert the result into a DataFrame. Simply return the raw row (a tuple) from the query."
   ]
  },
  {
   "cell_type": "code",
   "execution_count": 3,
   "metadata": {
    "nbgrader": {
     "grade": false,
     "grade_id": "Class1_Ans",
     "locked": false,
     "schema_version": 1,
     "solution": true
    }
   },
   "outputs": [
    {
     "name": "stdout",
     "output_type": "stream",
     "text": [
      "(524, 1, 'Jared', 'Ely', 'jared.ely@sakilacustomer.org', 530, True, datetime.date(2006, 2, 14), datetime.datetime(2013, 5, 26, 14, 49, 45, 738000), 1)\n"
     ]
    }
   ],
   "source": [
    "ans1 = None\n",
    "query = 'SELECT * FROM customer LIMIT 5' \n",
    "### BEGIN SOLUTION\n",
    "cursor = connection.cursor()\n",
    "cursor.execute(query)\n",
    "ans1 = cursor.fetchone()\n",
    "cursor.close()\n",
    "### END SOLUTION\n",
    "#Answer test\n",
    "print(ans1)"
   ]
  },
  {
   "cell_type": "code",
   "execution_count": 4,
   "metadata": {
    "nbgrader": {
     "grade": true,
     "grade_id": "Class1_tests",
     "locked": true,
     "points": 5,
     "schema_version": 1,
     "solution": false
    }
   },
   "outputs": [],
   "source": [
    "### BEGIN HIDDEN TESTS\n",
    "query_ = 'SELECT * FROM customer LIMIT 5'  \n",
    "cursor_ = connection.cursor()\n",
    "cursor_.execute(query_)\n",
    "ans1_ = cursor_.fetchone()\n",
    "cursor_.close()\n",
    "assert ans1 == ans1_\n",
    "### END HIDDEN TESTS"
   ]
  },
  {
   "cell_type": "markdown",
   "metadata": {
    "nbgrader": {
     "grade": false,
     "grade_id": "Q2_Description",
     "locked": true,
     "schema_version": 1,
     "solution": false
    }
   },
   "source": [
    "###### [Back to top](#Index:) \n",
    "\n",
    "### Question 2\n",
    "\n",
    "**Perform the following tasks:**\n",
    "\n",
    "- Using the **connection** defined above:\n",
    "  - Execute the following SQL query using a cursor:\n",
    "    ```sql\n",
    "    SELECT * FROM film ORDER BY film_id DESC LIMIT 10;\n",
    "    ```\n",
    "  - Fetch **all** rows from the result set using `.fetchall()`.\n",
    "  - Assign the result (a list of tuples) to a variable named **`ans2`**.\n",
    "  - Close the cursor after fetching the data.\n",
    "\n",
    "**Note:**  \n",
    "- The output should be a list of tuples, where each tuple represents a row from the `film` table.\n",
    "\n"
   ]
  },
  {
   "cell_type": "code",
   "execution_count": 5,
   "metadata": {
    "nbgrader": {
     "grade": false,
     "grade_id": "Class2_Ans",
     "locked": false,
     "schema_version": 1,
     "solution": true
    }
   },
   "outputs": [
    {
     "name": "stdout",
     "output_type": "stream",
     "text": [
      "[(1000, 'Zorro Ark', 'A Intrepid Panorama of a Mad Scientist And a Boy who must Redeem a Boy in A Monastery', 2006, 1, 3, Decimal('4.99'), 50, Decimal('18.99'), 'NC-17', datetime.datetime(2013, 5, 26, 14, 50, 58, 951000), ['Trailers', 'Commentaries', 'Behind the Scenes'], \"'ark':2 'boy':12,17 'intrepid':4 'mad':8 'monasteri':20 'must':14 'panorama':5 'redeem':15 'scientist':9 'zorro':1\"), (999, 'Zoolander Fiction', 'A Fateful Reflection of a Waitress And a Boat who must Discover a Sumo Wrestler in Ancient China', 2006, 1, 5, Decimal('2.99'), 101, Decimal('28.99'), 'R', datetime.datetime(2013, 5, 26, 14, 50, 58, 951000), ['Trailers', 'Deleted Scenes'], \"'ancient':19 'boat':11 'china':20 'discov':14 'fate':4 'fiction':2 'must':13 'reflect':5 'sumo':16 'waitress':8 'wrestler':17 'zooland':1\"), (998, 'Zhivago Core', 'A Fateful Yarn of a Composer And a Man who must Face a Boy in The Canadian Rockies', 2006, 1, 6, Decimal('0.99'), 105, Decimal('10.99'), 'NC-17', datetime.datetime(2013, 5, 26, 14, 50, 58, 951000), ['Deleted Scenes'], \"'boy':16 'canadian':19 'compos':8 'core':2 'face':14 'fate':4 'man':11 'must':13 'rocki':20 'yarn':5 'zhivago':1\"), (997, 'Youth Kick', 'A Touching Drama of a Teacher And a Cat who must Challenge a Technical Writer in A U-Boat', 2006, 1, 4, Decimal('0.99'), 179, Decimal('14.99'), 'NC-17', datetime.datetime(2013, 5, 26, 14, 50, 58, 951000), ['Trailers', 'Behind the Scenes'], \"'boat':22 'cat':11 'challeng':14 'drama':5 'kick':2 'must':13 'teacher':8 'technic':16 'touch':4 'u':21 'u-boat':20 'writer':17 'youth':1\"), (996, 'Young Language', 'A Unbelieveable Yarn of a Boat And a Database Administrator who must Meet a Boy in The First Manned Space Station', 2006, 1, 6, Decimal('0.99'), 183, Decimal('9.99'), 'G', datetime.datetime(2013, 5, 26, 14, 50, 58, 951000), ['Trailers', 'Behind the Scenes'], \"'administr':12 'boat':8 'boy':17 'databas':11 'first':20 'languag':2 'man':21 'meet':15 'must':14 'space':22 'station':23 'unbeliev':4 'yarn':5 'young':1\"), (995, 'Yentl Idaho', 'A Amazing Display of a Robot And a Astronaut who must Fight a Womanizer in Berlin', 2006, 1, 5, Decimal('4.99'), 86, Decimal('11.99'), 'R', datetime.datetime(2013, 5, 26, 14, 50, 58, 951000), ['Trailers', 'Commentaries', 'Deleted Scenes'], \"'amaz':4 'astronaut':11 'berlin':18 'display':5 'fight':14 'idaho':2 'must':13 'robot':8 'woman':16 'yentl':1\"), (994, 'Wyoming Storm', 'A Awe-Inspiring Panorama of a Robot And a Boat who must Overcome a Feminist in A U-Boat', 2006, 1, 6, Decimal('4.99'), 100, Decimal('29.99'), 'PG-13', datetime.datetime(2013, 5, 26, 14, 50, 58, 951000), ['Deleted Scenes'], \"'awe':5 'awe-inspir':4 'boat':13,23 'feminist':18 'inspir':6 'must':15 'overcom':16 'panorama':7 'robot':10 'storm':2 'u':22 'u-boat':21 'wyom':1\"), (993, 'Wrong Behavior', 'A Emotional Saga of a Crocodile And a Sumo Wrestler who must Discover a Mad Cow in New Orleans', 2006, 1, 6, Decimal('2.99'), 178, Decimal('10.99'), 'PG-13', datetime.datetime(2013, 5, 26, 14, 50, 58, 951000), ['Trailers', 'Behind the Scenes'], \"'behavior':2 'cow':18 'crocodil':8 'discov':15 'emot':4 'mad':17 'must':14 'new':20 'orlean':21 'saga':5 'sumo':11 'wrestler':12 'wrong':1\"), (992, 'Wrath Mile', 'A Intrepid Reflection of a Technical Writer And a Hunter who must Defeat a Sumo Wrestler in A Monastery', 2006, 1, 5, Decimal('0.99'), 176, Decimal('17.99'), 'NC-17', datetime.datetime(2013, 5, 26, 14, 50, 58, 951000), ['Trailers', 'Commentaries'], \"'defeat':15 'hunter':12 'intrepid':4 'mile':2 'monasteri':21 'must':14 'reflect':5 'sumo':17 'technic':8 'wrath':1 'wrestler':18 'writer':9\"), (991, 'Worst Banger', 'A Thrilling Drama of a Madman And a Dentist who must Conquer a Boy in The Outback', 2006, 1, 4, Decimal('2.99'), 185, Decimal('26.99'), 'PG', datetime.datetime(2013, 5, 26, 14, 50, 58, 951000), ['Deleted Scenes', 'Behind the Scenes'], \"'banger':2 'boy':16 'conquer':14 'dentist':11 'drama':5 'madman':8 'must':13 'outback':19 'thrill':4 'worst':1\")]\n"
     ]
    }
   ],
   "source": [
    "ans2 = None\n",
    "query = 'SELECT * FROM film ORDER BY film_id DESC LIMIT 10;'  \n",
    "### BEGIN SOLUTION\n",
    "cursor = connection.cursor()\n",
    "cursor.execute(query)\n",
    "ans2 = cursor.fetchall()\n",
    "cursor.close()\n",
    "### END SOLUTION\n",
    "#Answer test\n",
    "print(ans2)"
   ]
  },
  {
   "cell_type": "code",
   "execution_count": 6,
   "metadata": {
    "nbgrader": {
     "grade": true,
     "grade_id": "Class2_Tests",
     "locked": true,
     "points": 5,
     "schema_version": 1,
     "solution": false
    }
   },
   "outputs": [],
   "source": [
    "### BEGIN HIDDEN TESTS\n",
    "query_ = 'SELECT * FROM film ORDER BY film_id DESC LIMIT 10;'  \n",
    "cursor_ = connection.cursor()\n",
    "cursor_.execute(query_)\n",
    "ans2_ = cursor_.fetchall()\n",
    "cursor_.close()\n",
    "assert ans2_== ans2, \"Please ensure you're executing the given query correctly with the execute method and then calling fetchall method to get the data (list of tuples)\"\n",
    "### END HIDDEN TESTS"
   ]
  },
  {
   "cell_type": "markdown",
   "metadata": {
    "nbgrader": {
     "grade": false,
     "grade_id": "Q3_Description",
     "locked": true,
     "schema_version": 1,
     "solution": false
    }
   },
   "source": [
    "###### [Back to top](#Index:) \n",
    "\n",
    "### Question 3\n",
    "\n",
    "**Perform the following tasks:**\n",
    "\n",
    "- Define a function called **`query`** that takes the following parameters:\n",
    "  - `query`: SQL query string\n",
    "  - `host`: the hostname (e.g., `'localhost'`)\n",
    "  - `database`: name of the database to connect to\n",
    "  - `user`: the database username\n",
    "  - `password`: the password for the user\n",
    "\n",
    "- Inside the function:\n",
    "  - Create a connection to the database using `pg.connect()`.\n",
    "  - Create a cursor from the connection.\n",
    "  - Execute the query using the `.execute()` method.\n",
    "  - Fetch **all** the results using the `.fetchall()` method.\n",
    "  - Close the **cursor** before returning the results.\n",
    "  - Optionally close the **connection** as well to free resources.\n",
    "\n",
    "```python\n",
    "def query(query, host, database, user, password):\n",
    "    # Connect to the database    \n",
    "    # Execute the query\n",
    "    # Fetch all results\n",
    "    # Close the cursor and connection\n",
    "    # Return all results from the query\n",
    "```\n",
    "\n",
    "\n",
    "- Test your function by connecting to:\n",
    "  - the `dvdrental` database\n",
    "  - the `world` database\n",
    "- Print results for sample queries from both.\n",
    " "
   ]
  },
  {
   "cell_type": "code",
   "execution_count": 7,
   "metadata": {
    "nbgrader": {
     "grade": false,
     "grade_id": "Class3_Ans",
     "locked": false,
     "schema_version": 1,
     "solution": true
    }
   },
   "outputs": [
    {
     "name": "stdout",
     "output_type": "stream",
     "text": [
      "[(599,)]\n",
      "[(239,)]\n"
     ]
    }
   ],
   "source": [
    "def query(query, host, database, user, password):       \n",
    "### BEGIN SOLUTION\n",
    "    connection = pg.connect(host = host,\n",
    "                        database = database,\n",
    "                        user = user,\n",
    "                        password = password)\n",
    "    cursor = connection.cursor()\n",
    "    cursor.execute(query)\n",
    "    returnResults = cursor.fetchall()\n",
    "    cursor.close()\n",
    "    return returnResults\n",
    "### END SOLUTION\n",
    "#Answer test\n",
    "print(query(\"select count(*) from customer\", \"localhost\", \"dvdrental\", \"postgres\", \"codio\"))\n",
    "# Test using the world database\n",
    "print(query(\"select count(*) from country\", \"localhost\", \"world\", \"postgres\", \"codio\"))"
   ]
  },
  {
   "cell_type": "code",
   "execution_count": 8,
   "metadata": {
    "nbgrader": {
     "grade": true,
     "grade_id": "Class3_Tests",
     "locked": true,
     "points": 5,
     "schema_version": 1,
     "solution": false
    }
   },
   "outputs": [],
   "source": [
    "### BEGIN HIDDEN TESTS\n",
    "def query_(query, host, database, user, password):       \n",
    "    connection = pg.connect(host = host,\n",
    "                        database = database,\n",
    "                        user = user,\n",
    "                        password = password)\n",
    "    cursor = connection.cursor()\n",
    "    cursor.execute(query)\n",
    "    returnResults = cursor.fetchall()\n",
    "    cursor.close()\n",
    "    return returnResults\n",
    "\n",
    "test1 = query(\"select * from film\", \"localhost\", \"dvdrental\", \"postgres\", \"codio\")\n",
    "test1_ = query_(\"select * from film\", \"localhost\", \"dvdrental\", \"postgres\", \"codio\")\n",
    "\n",
    "test2 = query(\"select * from country\", \"localhost\", \"world\", \"postgres\", \"codio\")\n",
    "test2_ = query_(\"select * from country\", \"localhost\", \"world\", \"postgres\", \"codio\")\n",
    "assert test1 == test1_\n",
    "assert test2 == test2_\n",
    "### END HIDDEN TESTS"
   ]
  },
  {
   "cell_type": "markdown",
   "metadata": {
    "nbgrader": {
     "grade": false,
     "grade_id": "Q4_Description",
     "locked": true,
     "schema_version": 1,
     "solution": false
    }
   },
   "source": [
    "###### [Back to top](#Index:) \n",
    "\n",
    "### Question 4\n",
    "\n",
    "**Perform the following tasks:**\n",
    "\n",
    "- Using the **dvdrental** database, write a SQL query to display the **top 10 customers** who have made the most rentals.\n",
    "- Specifically:\n",
    "  - Select the `customer_id` from the `customer` table and the total number of rentals they have made.\n",
    "  - Perform an **INNER JOIN** between the `customer` and `rental` tables on `customer_id` to **include only customers who have made rentals**.\n",
    "  - Use `COUNT(*)` to count the number of rentals per customer and label this column as `rental_count`.\n",
    "  - Group the results by `customer.customer_id`.\n",
    "  - Order the results in **descending order** of `rental_count`.\n",
    "  - Limit the output to **10 records only**.\n",
    "- Assign the SQL query string to a variable called `sql`.\n",
    "- Use your previously defined `query()` function to execute the query and assign the output to a variable called `result`. The code for this point is already given.\n",
    "\n",
    "**Hint:** Use a multi-line SQL string enclosed in triple quotes `'''` for readability. Like:\n",
    "\n",
    "```python\n",
    "sql = '''\n",
    "your query here\n",
    "'''\n",
    "```\n"
   ]
  },
  {
   "cell_type": "code",
   "execution_count": 9,
   "metadata": {
    "nbgrader": {
     "grade": false,
     "grade_id": "Class4_Ans",
     "locked": false,
     "schema_version": 1,
     "solution": true
    }
   },
   "outputs": [
    {
     "name": "stdout",
     "output_type": "stream",
     "text": [
      "[(148, 46), (526, 45), (144, 42), (236, 42), (75, 41), (469, 40), (197, 40), (468, 39), (137, 39), (178, 39)]\n"
     ]
    }
   ],
   "source": [
    "sql = None        \n",
    "### BEGIN SOLUTION\n",
    "sql = '''SELECT customer.customer_id, COUNT(*) AS rental_count \n",
    "FROM customer INNER JOIN rental\n",
    "ON rental.customer_id = customer.customer_id\n",
    "GROUP BY customer.customer_id\n",
    "ORDER BY rental_count DESC\n",
    "LIMIT 10'''\n",
    "### END SOLUTION\n",
    "result = query(sql, \"localhost\" ,\"dvdrental\", \"postgres\", \"codio\")\n",
    "print(result)"
   ]
  },
  {
   "cell_type": "code",
   "execution_count": 10,
   "metadata": {
    "nbgrader": {
     "grade": true,
     "grade_id": "Class4_Tests",
     "locked": true,
     "points": 5,
     "schema_version": 1,
     "solution": false
    }
   },
   "outputs": [],
   "source": [
    "### BEGIN HIDDEN TESTS\n",
    "sqlx = '''SELECT customer.customer_id, COUNT(*) AS rental_count \n",
    "FROM customer INNER JOIN rental\n",
    "ON rental.customer_id = customer.customer_id\n",
    "GROUP BY customer.customer_id\n",
    "ORDER BY rental_count DESC\n",
    "LIMIT 10'''\n",
    "\n",
    "ans4_ = query_(sqlx, \"localhost\" ,\"dvdrental\", \"postgres\", \"codio\")\n",
    "ans4 = query_(sql, \"localhost\" ,\"dvdrental\", \"postgres\", \"codio\")\n",
    "\n",
    "assert ans4== ans4_\n",
    "### END HIDDEN TESTS\n"
   ]
  },
  {
   "cell_type": "markdown",
   "metadata": {
    "nbgrader": {
     "grade": false,
     "grade_id": "Q13_Description",
     "locked": true,
     "schema_version": 1,
     "solution": false
    }
   },
   "source": [
    "###### [Back to top](#Index:) \n",
    "\n",
    "\n",
    "### Question 5\n",
    "\n",
    "**Perform the following tasks:**\n",
    "\n",
    "- Using the **world** database, explore the potential relationship between life expectancy and gross national product (GNP) of countries.\n",
    "- Follow the steps below:\n",
    "  - Write a SQL query that selects the following two columns from the `country` table:\n",
    "    - `lifeexpectancy`\n",
    "    - `gnp`\n",
    "- Use your previously defined `query()` function to execute this SQL query.\n",
    "```python\n",
    "query(sql, \"localhost\" ,\"world\", \"postgres\", \"codio\")\n",
    "```\n",
    "- Assign the result of the function call to a variable named **`life_gnp`**.\n",
    "\n",
    "**Note:**  \n",
    "Refer to the country table schema here for column names:  [World Database Country Table](https://dataedo.com/samples/html/World_PostgreSQL/doc/World_(PostgreSQL_database)_11/modules/World_database_diagram_106/tables/public_country_3939.html)\n"
   ]
  },
  {
   "cell_type": "code",
   "execution_count": 11,
   "metadata": {
    "nbgrader": {
     "grade": false,
     "grade_id": "Class5_Ans",
     "locked": false,
     "schema_version": 1,
     "solution": true
    }
   },
   "outputs": [
    {
     "name": "stdout",
     "output_type": "stream",
     "text": [
      "[(45.9, Decimal('5976.00')), (78.3, Decimal('371362.00')), (74.7, Decimal('1941.00')), (71.6, Decimal('3205.00')), (69.7, Decimal('49982.00')), (75.1, Decimal('334.00')), (83.5, Decimal('1630.00')), (38.3, Decimal('6648.00')), (76.1, Decimal('63.20')), (70.5, Decimal('612.00')), (74.1, Decimal('37966.00')), (75.1, Decimal('340238.00')), (66.4, Decimal('1813.00')), (78.4, Decimal('828.00')), (79.8, Decimal('351182.00')), (62.9, Decimal('4127.00')), (71.1, Decimal('3527.00')), (73.0, Decimal('6366.00')), (60.2, Decimal('32852.00')), (73.0, Decimal('2223.00')), (77.8, Decimal('249704.00')), (70.9, Decimal('630.00')), (50.2, Decimal('2357.00')), (76.9, Decimal('2328.00')), (52.4, Decimal('372.00')), (63.7, Decimal('8571.00')), (71.5, Decimal('2841.00')), (39.3, Decimal('4834.00')), (62.9, Decimal('776739.00')), (77.7, Decimal('1378330.00')), (75.4, Decimal('612.00')), (73.6, Decimal('11705.00')), (70.9, Decimal('12178.00')), (46.7, Decimal('2425.00')), (46.2, Decimal('903.00')), (78.9, Decimal('1263.00')), (75.7, Decimal('72949.00')), (71.1, Decimal('100.00')), (75.8, Decimal('10226.00')), (50.8, Decimal('382.00')), (73.4, Decimal('256.00')), (73.2, Decimal('15846.00')), (71.1, Decimal('19770.00')), (63.3, Decimal('82710.00')), (69.7, Decimal('11863.00')), (55.8, Decimal('650.00')), (78.8, Decimal('553233.00')), (51.1, Decimal('116729.00')), (45.2, Decimal('6353.00')), (None, Decimal('0.00')), (67.9, Decimal('1536.00')), (67.5, Decimal('65107.00')), (78.4, Decimal('0.00')), (50.1, Decimal('5493.00')), (53.2, Decimal('320.00')), (64.5, Decimal('6064.00')), (57.4, Decimal('7137.00')), (79.0, Decimal('258.00')), (64.5, Decimal('318.00')), (68.1, Decimal('0.00')), (77.0, Decimal('3501.00')), (77.8, Decimal('1197.00')), (66.2, Decimal('19008.00')), (45.6, Decimal('2352.00')), (49.0, Decimal('293.00')), (64.0, Decimal('722.00')), (49.2, Decimal('3459.00')), (69.9, Decimal('5333.00')), (79.5, Decimal('166448.00')), (None, Decimal('0.00')), (68.0, Decimal('84982.00')), (62.5, Decimal('447114.00')), (66.5, Decimal('11500.00')), (69.7, Decimal('195746.00')), (76.8, Decimal('75921.00')), (79.4, Decimal('8255.00')), (78.6, Decimal('97477.00')), (79.0, Decimal('1161755.00')), (46.0, Decimal('0.00')), (77.7, Decimal('211860.00')), (75.2, Decimal('6871.00')), (80.7, Decimal('3787042.00')), (59.8, Decimal('6041.00')), (77.4, Decimal('7526.00')), (None, Decimal('0.00')), (72.4, Decimal('17000.00')), (56.5, Decimal('5121.00')), (54.8, Decimal('9174.00')), (79.4, Decimal('598862.00')), (68.9, Decimal('435.00')), (63.2, Decimal('24375.00')), (48.0, Decimal('9217.00')), (44.0, Decimal('1054.00')), (71.4, Decimal('982268.00')), (63.4, Decimal('1626.00')), (59.8, Decimal('40.70')), (70.3, Decimal('102896.00')), (60.0, Decimal('4401.00')), (47.4, Decimal('2108.00')), (48.8, Decimal('6964.00')), (None, Decimal('0.00')), (70.7, Decimal('5332.00')), (74.4, Decimal('320749.00')), (78.4, Decimal('120724.00')), (73.7, Decimal('20208.00')), (76.2, Decimal('17843.00')), (76.1, Decimal('27037.00')), (76.7, Decimal('9333.00')), (53.1, Decimal('1292.00')), (68.4, Decimal('6398.00')), (50.8, Decimal('1061.00')), (71.3, Decimal('17121.00')), (51.0, Decimal('2012.00')), (75.5, Decimal('44806.00')), (78.8, Decimal('1119.00')), (69.1, Decimal('10692.00')), (77.1, Decimal('16321.00')), (49.8, Decimal('60.00')), (81.6, Decimal('5749.00')), (55.0, Decimal('3750.00')), (73.8, Decimal('1694.00')), (37.6, Decimal('1687.00')), (62.2, Decimal('199.00')), (70.8, Decimal('69213.00')), (46.7, Decimal('2642.00')), (77.9, Decimal('3512.00')), (69.1, Decimal('36124.00')), (65.5, Decimal('97.00')), (78.3, Decimal('2731.00')), (50.8, Decimal('998.00')), (71.0, Decimal('4251.00')), (59.5, Decimal('0.00')), (71.5, Decimal('414972.00')), (68.6, Decimal('212.00')), (64.5, Decimal('1579.00')), (78.8, Decimal('776.00')), (67.3, Decimal('1043.00')), (78.0, Decimal('109.00')), (37.5, Decimal('2891.00')), (54.9, Decimal('180375.00')), (42.5, Decimal('3101.00')), (60.8, Decimal('197.00')), (57.8, Decimal('4768.00')), (68.7, Decimal('1988.00')), (41.3, Decimal('1706.00')), (51.6, Decimal('65707.00')), (None, Decimal('0.00')), (None, Decimal('0.00')), (78.7, Decimal('145895.00')), (45.2, Decimal('11345.00')), (71.8, Decimal('16904.00')), (61.1, Decimal('61289.00')), (68.6, Decimal('105.00')), (75.5, Decimal('9131.00')), (63.1, Decimal('4988.00')), (73.7, Decimal('8444.00')), (70.0, Decimal('64140.00')), (None, Decimal('0.00')), (75.5, Decimal('0.00')), (75.8, Decimal('105954.00')), (75.6, Decimal('34100.00')), (73.2, Decimal('151697.00')), (53.6, Decimal('283.00')), (72.4, Decimal('9472.00')), (78.8, Decimal('1424285.00')), (76.1, Decimal('681.00')), (74.8, Decimal('818.00')), (72.7, Decimal('8287.00')), (69.9, Decimal('38158.00')), (39.3, Decimal('2036.00')), (79.6, Decimal('226492.00')), (76.8, Decimal('0.00')), (70.7, Decimal('299.00')), (72.3, Decimal('571.00')), (72.3, Decimal('285.00')), (77.6, Decimal('0.00')), (77.4, Decimal('2133367.00')), (71.3, Decimal('182.00')), (37.2, Decimal('3377.00')), (69.2, Decimal('141.00')), (81.1, Decimal('510.00')), (65.3, Decimal('6.00')), (67.8, Decimal('137635.00')), (62.2, Decimal('4787.00')), (70.4, Decimal('536.00')), (45.3, Decimal('746.00')), (80.1, Decimal('86503.00')), (73.7, Decimal('20594.00')), (74.9, Decimal('19756.00')), (46.2, Decimal('935.00')), (71.8, Decimal('15706.00')), (56.6, Decimal('10162.00')), (77.4, Decimal('121914.00')), (71.4, Decimal('870.00')), (40.4, Decimal('1206.00')), (79.6, Decimal('264478.00')), (68.5, Decimal('65984.00')), (64.1, Decimal('1990.00')), (76.4, Decimal('256254.00')), (52.3, Decimal('8005.00')), (76.5, Decimal('174099.00')), (68.6, Decimal('116416.00')), (54.7, Decimal('1449.00')), (None, Decimal('0.00')), (67.9, Decimal('146.00')), (68.0, Decimal('6232.00')), (50.5, Decimal('1208.00')), (74.5, Decimal('55017.00')), (73.7, Decimal('20026.00')), (71.0, Decimal('210721.00')), (60.9, Decimal('4397.00')), (73.3, Decimal('96.00')), (66.3, Decimal('6.00')), (42.9, Decimal('6313.00')), (66.0, Decimal('42168.00')), (71.4, Decimal('48267.00')), (75.2, Decimal('20831.00')), (72.8, Decimal('3563.00')), (77.8, Decimal('54669.00')), (63.7, Decimal('14194.00')), (68.0, Decimal('13714.00')), (None, Decimal('0.00')), (60.6, Decimal('261.00')), (None, Decimal('9.00')), (73.1, Decimal('95023.00')), (67.2, Decimal('276608.00')), (69.3, Decimal('21929.00')), (69.5, Decimal('5328.00')), (77.1, Decimal('8510700.00')), (78.1, Decimal('0.00')), (37.8, Decimal('5951.00')), (71.4, Decimal('4173.00')), (None, Decimal('0.00')), (None, Decimal('0.00')), (None, Decimal('0.00')), (None, Decimal('0.00')), (None, Decimal('0.00')), (None, Decimal('0.00')), (None, Decimal('0.00'))]\n"
     ]
    }
   ],
   "source": [
    "import psycopg2 as pg\n",
    "\n",
    "life_gnp = None\n",
    "sql = None\n",
    "### BEGIN SOLUTION\n",
    "sql = \"SELECT lifeexpectancy, gnp FROM country\"\n",
    "life_gnp = query(sql, \"localhost\" ,\"world\", \"postgres\", \"codio\") \n",
    "### END SOLUTION\n",
    "#Answer test\n",
    "print(life_gnp)"
   ]
  },
  {
   "cell_type": "code",
   "execution_count": 12,
   "metadata": {
    "nbgrader": {
     "grade": true,
     "grade_id": "Class5_Tests",
     "locked": true,
     "points": 5,
     "schema_version": 1,
     "solution": false
    }
   },
   "outputs": [],
   "source": [
    "### BEGIN HIDDEN TESTS\n",
    "sql_ = \"SELECT lifeexpectancy, gnp FROM country\"\n",
    "life_gnp_ = query_(sql_, \"localhost\" ,\"world\", \"postgres\", \"codio\") \n",
    "assert life_gnp == life_gnp_\n",
    "\n",
    "### END HIDDEN TESTS"
   ]
  },
  {
   "cell_type": "markdown",
   "metadata": {
    "nbgrader": {
     "grade": false,
     "grade_id": "Q6_Description",
     "locked": true,
     "schema_version": 1,
     "solution": false
    }
   },
   "source": [
    "###### [Back to top](#Index:) \n",
    "\n",
    "### Question 6\n",
    "\n",
    "**Perform the following tasks:**\n",
    "\n",
    "- From the data stored in **`life_gnp`** (in task 5 - a list of tuples), extract individual columns using list comprehensions:\n",
    "  - Create a list named **`lifes`** that contains only the life expectancy values (first element of each tuple).\n",
    "  - Create a list named **`gnps`** that contains only the gross national product values (second element of each tuple).\n",
    "\n",
    "**Hint:**  \n",
    "Use list comprehension syntax.  \n",
    "Example:  \n",
    "```python\n",
    "lifes = [x[0] for x in life_gnp]\n",
    "```"
   ]
  },
  {
   "cell_type": "code",
   "execution_count": 13,
   "metadata": {
    "nbgrader": {
     "grade": false,
     "grade_id": "Class6_Ans",
     "locked": false,
     "schema_version": 1,
     "solution": true
    }
   },
   "outputs": [
    {
     "name": "stdout",
     "output_type": "stream",
     "text": [
      "[45.9, 78.3, 74.7, 71.6, 69.7, 75.1, 83.5, 38.3, 76.1, 70.5, 74.1, 75.1, 66.4, 78.4, 79.8, 62.9, 71.1, 73.0, 60.2, 73.0, 77.8, 70.9, 50.2, 76.9, 52.4, 63.7, 71.5, 39.3, 62.9, 77.7, 75.4, 73.6, 70.9, 46.7, 46.2, 78.9, 75.7, 71.1, 75.8, 50.8, 73.4, 73.2, 71.1, 63.3, 69.7, 55.8, 78.8, 51.1, 45.2, None, 67.9, 67.5, 78.4, 50.1, 53.2, 64.5, 57.4, 79.0, 64.5, 68.1, 77.0, 77.8, 66.2, 45.6, 49.0, 64.0, 49.2, 69.9, 79.5, None, 68.0, 62.5, 66.5, 69.7, 76.8, 79.4, 78.6, 79.0, 46.0, 77.7, 75.2, 80.7, 59.8, 77.4, None, 72.4, 56.5, 54.8, 79.4, 68.9, 63.2, 48.0, 44.0, 71.4, 63.4, 59.8, 70.3, 60.0, 47.4, 48.8, None, 70.7, 74.4, 78.4, 73.7, 76.2, 76.1, 76.7, 53.1, 68.4, 50.8, 71.3, 51.0, 75.5, 78.8, 69.1, 77.1, 49.8, 81.6, 55.0, 73.8, 37.6, 62.2, 70.8, 46.7, 77.9, 69.1, 65.5, 78.3, 50.8, 71.0, 59.5, 71.5, 68.6, 64.5, 78.8, 67.3, 78.0, 37.5, 54.9, 42.5, 60.8, 57.8, 68.7, 41.3, 51.6, None, None, 78.7, 45.2, 71.8, 61.1, 68.6, 75.5, 63.1, 73.7, 70.0, None, 75.5, 75.8, 75.6, 73.2, 53.6, 72.4, 78.8, 76.1, 74.8, 72.7, 69.9, 39.3, 79.6, 76.8, 70.7, 72.3, 72.3, 77.6, 77.4, 71.3, 37.2, 69.2, 81.1, 65.3, 67.8, 62.2, 70.4, 45.3, 80.1, 73.7, 74.9, 46.2, 71.8, 56.6, 77.4, 71.4, 40.4, 79.6, 68.5, 64.1, 76.4, 52.3, 76.5, 68.6, 54.7, None, 67.9, 68.0, 50.5, 74.5, 73.7, 71.0, 60.9, 73.3, 66.3, 42.9, 66.0, 71.4, 75.2, 72.8, 77.8, 63.7, 68.0, None, 60.6, None, 73.1, 67.2, 69.3, 69.5, 77.1, 78.1, 37.8, 71.4, None, None, None, None, None, None, None]\n",
      "[Decimal('5976.00'), Decimal('371362.00'), Decimal('1941.00'), Decimal('3205.00'), Decimal('49982.00'), Decimal('334.00'), Decimal('1630.00'), Decimal('6648.00'), Decimal('63.20'), Decimal('612.00'), Decimal('37966.00'), Decimal('340238.00'), Decimal('1813.00'), Decimal('828.00'), Decimal('351182.00'), Decimal('4127.00'), Decimal('3527.00'), Decimal('6366.00'), Decimal('32852.00'), Decimal('2223.00'), Decimal('249704.00'), Decimal('630.00'), Decimal('2357.00'), Decimal('2328.00'), Decimal('372.00'), Decimal('8571.00'), Decimal('2841.00'), Decimal('4834.00'), Decimal('776739.00'), Decimal('1378330.00'), Decimal('612.00'), Decimal('11705.00'), Decimal('12178.00'), Decimal('2425.00'), Decimal('903.00'), Decimal('1263.00'), Decimal('72949.00'), Decimal('100.00'), Decimal('10226.00'), Decimal('382.00'), Decimal('256.00'), Decimal('15846.00'), Decimal('19770.00'), Decimal('82710.00'), Decimal('11863.00'), Decimal('650.00'), Decimal('553233.00'), Decimal('116729.00'), Decimal('6353.00'), Decimal('0.00'), Decimal('1536.00'), Decimal('65107.00'), Decimal('0.00'), Decimal('5493.00'), Decimal('320.00'), Decimal('6064.00'), Decimal('7137.00'), Decimal('258.00'), Decimal('318.00'), Decimal('0.00'), Decimal('3501.00'), Decimal('1197.00'), Decimal('19008.00'), Decimal('2352.00'), Decimal('293.00'), Decimal('722.00'), Decimal('3459.00'), Decimal('5333.00'), Decimal('166448.00'), Decimal('0.00'), Decimal('84982.00'), Decimal('447114.00'), Decimal('11500.00'), Decimal('195746.00'), Decimal('75921.00'), Decimal('8255.00'), Decimal('97477.00'), Decimal('1161755.00'), Decimal('0.00'), Decimal('211860.00'), Decimal('6871.00'), Decimal('3787042.00'), Decimal('6041.00'), Decimal('7526.00'), Decimal('0.00'), Decimal('17000.00'), Decimal('5121.00'), Decimal('9174.00'), Decimal('598862.00'), Decimal('435.00'), Decimal('24375.00'), Decimal('9217.00'), Decimal('1054.00'), Decimal('982268.00'), Decimal('1626.00'), Decimal('40.70'), Decimal('102896.00'), Decimal('4401.00'), Decimal('2108.00'), Decimal('6964.00'), Decimal('0.00'), Decimal('5332.00'), Decimal('320749.00'), Decimal('120724.00'), Decimal('20208.00'), Decimal('17843.00'), Decimal('27037.00'), Decimal('9333.00'), Decimal('1292.00'), Decimal('6398.00'), Decimal('1061.00'), Decimal('17121.00'), Decimal('2012.00'), Decimal('44806.00'), Decimal('1119.00'), Decimal('10692.00'), Decimal('16321.00'), Decimal('60.00'), Decimal('5749.00'), Decimal('3750.00'), Decimal('1694.00'), Decimal('1687.00'), Decimal('199.00'), Decimal('69213.00'), Decimal('2642.00'), Decimal('3512.00'), Decimal('36124.00'), Decimal('97.00'), Decimal('2731.00'), Decimal('998.00'), Decimal('4251.00'), Decimal('0.00'), Decimal('414972.00'), Decimal('212.00'), Decimal('1579.00'), Decimal('776.00'), Decimal('1043.00'), Decimal('109.00'), Decimal('2891.00'), Decimal('180375.00'), Decimal('3101.00'), Decimal('197.00'), Decimal('4768.00'), Decimal('1988.00'), Decimal('1706.00'), Decimal('65707.00'), Decimal('0.00'), Decimal('0.00'), Decimal('145895.00'), Decimal('11345.00'), Decimal('16904.00'), Decimal('61289.00'), Decimal('105.00'), Decimal('9131.00'), Decimal('4988.00'), Decimal('8444.00'), Decimal('64140.00'), Decimal('0.00'), Decimal('0.00'), Decimal('105954.00'), Decimal('34100.00'), Decimal('151697.00'), Decimal('283.00'), Decimal('9472.00'), Decimal('1424285.00'), Decimal('681.00'), Decimal('818.00'), Decimal('8287.00'), Decimal('38158.00'), Decimal('2036.00'), Decimal('226492.00'), Decimal('0.00'), Decimal('299.00'), Decimal('571.00'), Decimal('285.00'), Decimal('0.00'), Decimal('2133367.00'), Decimal('182.00'), Decimal('3377.00'), Decimal('141.00'), Decimal('510.00'), Decimal('6.00'), Decimal('137635.00'), Decimal('4787.00'), Decimal('536.00'), Decimal('746.00'), Decimal('86503.00'), Decimal('20594.00'), Decimal('19756.00'), Decimal('935.00'), Decimal('15706.00'), Decimal('10162.00'), Decimal('121914.00'), Decimal('870.00'), Decimal('1206.00'), Decimal('264478.00'), Decimal('65984.00'), Decimal('1990.00'), Decimal('256254.00'), Decimal('8005.00'), Decimal('174099.00'), Decimal('116416.00'), Decimal('1449.00'), Decimal('0.00'), Decimal('146.00'), Decimal('6232.00'), Decimal('1208.00'), Decimal('55017.00'), Decimal('20026.00'), Decimal('210721.00'), Decimal('4397.00'), Decimal('96.00'), Decimal('6.00'), Decimal('6313.00'), Decimal('42168.00'), Decimal('48267.00'), Decimal('20831.00'), Decimal('3563.00'), Decimal('54669.00'), Decimal('14194.00'), Decimal('13714.00'), Decimal('0.00'), Decimal('261.00'), Decimal('9.00'), Decimal('95023.00'), Decimal('276608.00'), Decimal('21929.00'), Decimal('5328.00'), Decimal('8510700.00'), Decimal('0.00'), Decimal('5951.00'), Decimal('4173.00'), Decimal('0.00'), Decimal('0.00'), Decimal('0.00'), Decimal('0.00'), Decimal('0.00'), Decimal('0.00'), Decimal('0.00')]\n"
     ]
    }
   ],
   "source": [
    "import psycopg2 as pg\n",
    "\n",
    "lifes = None\n",
    "gnps = None\n",
    "### BEGIN SOLUTION\n",
    "lifes = [x[0] for x in life_gnp]\n",
    "gnps = [x[1] for x in life_gnp]\n",
    "### END SOLUTION\n",
    "#Answer test\n",
    "print(lifes)\n",
    "print(gnps)"
   ]
  },
  {
   "cell_type": "code",
   "execution_count": 14,
   "metadata": {
    "nbgrader": {
     "grade": true,
     "grade_id": "Class6_Tests",
     "locked": true,
     "points": 5,
     "schema_version": 1,
     "solution": false
    }
   },
   "outputs": [],
   "source": [
    "### BEGIN HIDDEN TESTS\n",
    "lifes_ = [x[0] for x in life_gnp_]\n",
    "gnps_ = [x[1] for x in life_gnp_]\n",
    "\n",
    "assert lifes == lifes_\n",
    "assert gnps == gnps_\n",
    "\n",
    "### END HIDDEN TESTS"
   ]
  },
  {
   "cell_type": "markdown",
   "metadata": {
    "nbgrader": {
     "grade": false,
     "grade_id": "Q7_Description",
     "locked": true,
     "schema_version": 1,
     "solution": false
    }
   },
   "source": [
    "###### [Back to top](#Index:) \n",
    "\n",
    "### Question 7\n",
    "\n",
    "**Perform the following task:**\n",
    "\n",
    "- Create a scatter plot of the data using `matplotlib`.\n",
    "- Plot the data using:\n",
    "  - The **x-axis** for the life expectancy values (`lifes`)\n",
    "  - The **y-axis** for the gnp (gross national product) values (`gnps`)\n",
    "- Label the axes:\n",
    "  - X-axis as `'Life'`\n",
    "  - Y-axis as `'GNP'`\n",
    "- Save the plot as `\"results/plot7.png\"`\n",
    "\n",
    "**Note:**  \n",
    "- Do **not** add or update any other attributes (such as title, grid, color, style, etc.) unless specified in a later task.\n",
    "- Ensure the output file is saved with the **exact** filename and path as mentioned.\n",
    "- The plot will be **strictly validated**, and additional attributes or incorrect filenames may lead to validation issues.\n"
   ]
  },
  {
   "cell_type": "code",
   "execution_count": 15,
   "metadata": {
    "nbgrader": {
     "grade": false,
     "grade_id": "Class7_Ans",
     "locked": false,
     "schema_version": 1,
     "solution": true
    }
   },
   "outputs": [
    {
     "data": {
      "image/png": "[encoded data removed]",
      "text/plain": [
       "<Figure size 432x288 with 1 Axes>"
      ]
     },
     "metadata": {
      "needs_background": "light"
     },
     "output_type": "display_data"
    }
   ],
   "source": [
    "import psycopg2 as pg\n",
    "import matplotlib.pyplot as plt       \n",
    "### BEGIN SOLUTION\n",
    "plt.scatter(lifes, gnps)\n",
    "plt.xlabel('Life')\n",
    "plt.ylabel('GNP')\n",
    "plt.savefig(\"results/plot7.png\")\n",
    "### END SOLUTION\n"
   ]
  },
  {
   "cell_type": "code",
   "execution_count": 16,
   "metadata": {
    "nbgrader": {
     "grade": true,
     "grade_id": "Class7_Tests",
     "locked": true,
     "points": 5,
     "schema_version": 1,
     "solution": false
    }
   },
   "outputs": [],
   "source": [
    "### BEGIN HIDDEN TESTS\n",
    "import psycopg2 as pg\n",
    "import matplotlib.pyplot as plt  \n",
    "\n",
    "from matplotlib.testing.compare import compare_images\n",
    "\n",
    "\n",
    "plt.scatter(lifes,gnps)\n",
    "plt.xlabel('Life')\n",
    "plt.ylabel('GNP')\n",
    "plt.savefig(\"results/plot7_.png\")\n",
    "plt.close()\n",
    "\n",
    "assert isinstance(compare_images(\"results/plot7.png\",\"results/plot7_.png\", tol=0.1), type(None)), \"The plots are not the same. Make sure you have used the correct syntax.\"\n",
    "\n",
    "import os\n",
    "if os.path.isfile('results/plot7.png'):\n",
    "    os.remove('results/plot7.png')\n",
    "\n",
    "### END HIDDEN TESTS"
   ]
  },
  {
   "cell_type": "markdown",
   "metadata": {
    "nbgrader": {
     "grade": false,
     "grade_id": "Q8_Description",
     "locked": true,
     "schema_version": 1,
     "solution": false
    }
   },
   "source": [
    "###### [Back to top](#Index:) \n",
    "\n",
    "### Question 8\n",
    "\n",
    "Perform the following task:\n",
    "\n",
    "- Based on the scatter plot from **Question 7**,\n",
    "- Zoom into the scatter plot created in the previous question by setting the plot limits:\n",
    "```python\n",
    "plt.xlim(40, 85)\n",
    "plt.ylim(0, 100000)\n",
    "```\n",
    "- Save the plot as `\"results/plot8.png\"`\n",
    "\n",
    "\n",
    "**Note:**\n",
    "- You must continue from the same base plot used in Question 7.\n",
    "```python\n",
    "plt.scatter(lifes, gnps)\n",
    "plt.xlabel('Life')\n",
    "plt.ylabel('GNP')\n",
    "```\n",
    "- Do not add any extra plot elements or labels beyond what was specified earlier.\n",
    "- Plot validation will fail if additional components are added.\n",
    "- The saved file must have the exact filename and location for successful validation."
   ]
  },
  {
   "cell_type": "code",
   "execution_count": 17,
   "metadata": {
    "nbgrader": {
     "grade": false,
     "grade_id": "Class8_Ans",
     "locked": false,
     "schema_version": 1,
     "solution": true
    }
   },
   "outputs": [],
   "source": [
    "import psycopg2 as pg\n",
    "import matplotlib.pyplot as plt       \n",
    "### BEGIN SOLUTION\n",
    "# then zoom in\n",
    "plt.scatter(lifes,gnps)\n",
    "plt.xlabel('Life')\n",
    "plt.ylabel('GNP')\n",
    "plt.xlim(40,85)\n",
    "plt.ylim(0,100000)\n",
    "plt.savefig(\"results/plot8.png\")\n",
    "plt.close()\n",
    "### END SOLUTION\n"
   ]
  },
  {
   "cell_type": "code",
   "execution_count": 18,
   "metadata": {
    "nbgrader": {
     "grade": true,
     "grade_id": "Class8_Tests",
     "locked": true,
     "points": 5,
     "schema_version": 1,
     "solution": false
    }
   },
   "outputs": [],
   "source": [
    "\n",
    "### BEGIN HIDDEN TESTS\n",
    "\n",
    "\n",
    "from matplotlib.testing.compare import compare_images\n",
    "\n",
    "\n",
    "# then zoom in\n",
    "plt.scatter(lifes,gnps)\n",
    "plt.xlabel('Life')\n",
    "plt.ylabel('GNP')\n",
    "plt.xlim(40,85)\n",
    "plt.ylim(0,100000)\n",
    "plt.savefig(\"results/plot8_.png\")\n",
    "plt.close()\n",
    "#\n",
    "#\n",
    "#\n",
    "assert isinstance(compare_images(\"results/plot8.png\",\"results/plot8_.png\", tol=0.1), type(None)), \"The plots are not the same. Make sure you have used the correct syntax.\"\n",
    "\n",
    "import os\n",
    "if os.path.isfile('results/plot8.png'):\n",
    "    os.remove('results/plot8.png')\n",
    "\n",
    "### END HIDDEN TESTS\n"
   ]
  },
  {
   "cell_type": "markdown",
   "metadata": {
    "nbgrader": {
     "grade": false,
     "grade_id": "Q9_Description",
     "locked": true,
     "schema_version": 1,
     "solution": false
    }
   },
   "source": [
    "###### [Back to top](#Index:) \n",
    "\n",
    "### Question 9\n",
    "\n",
    "**Perform the following task:**\n",
    "\n",
    "- Use the following SQL query, which solves the **\"multiple winners problem\"** by identifying all customers who placed the highest number of rentals (orders):\n",
    "\n",
    "  ```sql\n",
    "  sql = '''WITH top_num_orders AS\n",
    "            (SELECT COUNT(*) AS num_orders\n",
    "            FROM customer INNER JOIN rental\n",
    "            ON customer.customer_id = rental.customer_id\n",
    "            GROUP BY customer.customer_id\n",
    "            ORDER BY num_orders DESC \n",
    "            LIMIT 1),\n",
    "            all_customer_orders AS \n",
    "              (SELECT customer.customer_id, COUNT(*) AS num_orders \n",
    "              FROM rental INNER JOIN customer\n",
    "              ON customer.customer_id = rental.customer_id \n",
    "              INNER JOIN top_num_orders\n",
    "              ON top_num_orders.num_orders = num_orders\n",
    "              GROUP BY customer.customer_id\n",
    "              ORDER BY num_orders DESC)\n",
    "            SELECT all_customer_orders.customer_id, top_num_orders.num_orders FROM all_customer_orders \n",
    "            INNER JOIN top_num_orders\n",
    "            ON all_customer_orders.num_orders = top_num_orders.num_orders'''\n",
    "  ```\n",
    "\n",
    "\n",
    "- Use the **connection** defined at the beginning of this assignment to run the query.\n",
    "- Load the results into a Pandas DataFrame and assign it to a variable named **`df`**.\n",
    "\n",
    "\n",
    "**Note:**\n",
    "\n",
    "- Use `pd.read_sql()` to run the query and load it directly into the DataFrame.\n",
    "- Make sure the resulting DataFrame contains both `customer_id` and `num_orders` columns as returned by the query.\n"
   ]
  },
  {
   "cell_type": "code",
   "execution_count": 19,
   "metadata": {
    "nbgrader": {
     "grade": false,
     "grade_id": "Class9_Ans",
     "locked": false,
     "schema_version": 1,
     "solution": true
    }
   },
   "outputs": [
    {
     "data": {
      "text/html": [
       "<div>\n",
       "<style scoped>\n",
       "    .dataframe tbody tr th:only-of-type {\n",
       "        vertical-align: middle;\n",
       "    }\n",
       "\n",
       "    .dataframe tbody tr th {\n",
       "        vertical-align: top;\n",
       "    }\n",
       "\n",
       "    .dataframe thead th {\n",
       "        text-align: right;\n",
       "    }\n",
       "</style>\n",
       "<table border=\"1\" class=\"dataframe\">\n",
       "  <thead>\n",
       "    <tr style=\"text-align: right;\">\n",
       "      <th></th>\n",
       "      <th>customer_id</th>\n",
       "      <th>num_orders</th>\n",
       "    </tr>\n",
       "  </thead>\n",
       "  <tbody>\n",
       "    <tr>\n",
       "      <th>0</th>\n",
       "      <td>148</td>\n",
       "      <td>46</td>\n",
       "    </tr>\n",
       "  </tbody>\n",
       "</table>\n",
       "</div>"
      ],
      "text/plain": [
       "   customer_id  num_orders\n",
       "0          148          46"
      ]
     },
     "execution_count": 19,
     "metadata": {},
     "output_type": "execute_result"
    }
   ],
   "source": [
    "df = None\n",
    "sql = '''WITH top_num_orders AS\n",
    "        (SELECT COUNT(*) AS num_orders\n",
    "        FROM customer INNER JOIN rental\n",
    "        ON customer.customer_id = rental.customer_id\n",
    "        GROUP BY customer.customer_id\n",
    "        ORDER BY num_orders DESC \n",
    "        LIMIT 1),\n",
    "        all_customer_orders AS \n",
    "          (SELECT customer.customer_id, COUNT(*) AS num_orders \n",
    "          FROM rental INNER JOIN customer\n",
    "          ON customer.customer_id = rental.customer_id \n",
    "          INNER JOIN top_num_orders\n",
    "          ON top_num_orders.num_orders = num_orders\n",
    "          GROUP BY customer.customer_id\n",
    "          ORDER BY num_orders DESC)\n",
    "        SELECT all_customer_orders.customer_id, top_num_orders.num_orders FROM all_customer_orders \n",
    "        INNER JOIN top_num_orders\n",
    "        ON all_customer_orders.num_orders = top_num_orders.num_orders'''\n",
    "\n",
    "### BEGIN SOLUTION\n",
    "df = pd.read_sql(sql, con=connection)\n",
    "### END SOLUTION\n",
    "#Answer test\n",
    "df.head()"
   ]
  },
  {
   "cell_type": "code",
   "execution_count": 20,
   "metadata": {
    "nbgrader": {
     "grade": true,
     "grade_id": "Class9_Tests",
     "locked": true,
     "points": 5,
     "schema_version": 1,
     "solution": false
    }
   },
   "outputs": [],
   "source": [
    "### BEGIN HIDDEN TESTS\n",
    "sql_ = '''WITH top_num_orders AS\n",
    "        (SELECT COUNT(*) AS num_orders\n",
    "        FROM customer INNER JOIN rental\n",
    "        ON customer.customer_id = rental.customer_id\n",
    "        GROUP BY customer.customer_id\n",
    "        ORDER BY num_orders DESC \n",
    "        LIMIT 1),\n",
    "        all_customer_orders AS \n",
    "          (SELECT customer.customer_id, COUNT(*) AS num_orders \n",
    "          FROM rental INNER JOIN customer\n",
    "          ON customer.customer_id = rental.customer_id \n",
    "          INNER JOIN top_num_orders\n",
    "          ON top_num_orders.num_orders = num_orders\n",
    "          GROUP BY customer.customer_id\n",
    "          ORDER BY num_orders DESC)\n",
    "        SELECT all_customer_orders.customer_id, top_num_orders.num_orders FROM all_customer_orders \n",
    "        INNER JOIN top_num_orders\n",
    "        ON all_customer_orders.num_orders = top_num_orders.num_orders'''\n",
    "df_ = pd.read_sql(sql_, con=connection)\n",
    "\n",
    "from pandas.testing import assert_frame_equal\n",
    "assert_frame_equal(df, df_)\n",
    "### END HIDDEN TESTS"
   ]
  },
  {
   "cell_type": "markdown",
   "metadata": {
    "nbgrader": {
     "grade": false,
     "grade_id": "Q10_Description",
     "locked": true,
     "schema_version": 1,
     "solution": false
    }
   },
   "source": [
    "###### [Back to top](#Index:) \n",
    "\n",
    "### Question 10\n",
    "\n",
    "**Perform the following tasks:**\n",
    "\n",
    "- Use the **northwind** database to create a DataFrame by executing an SQL query.\n",
    "- The query should select **all columns** from the `suppliers` table **where the `country` column value is equal to `'Japan'`**. Assign the query (in string format) to the variable **`sql`**.\n",
    "- Store the resulting data in a Pandas DataFrame and assign it to a variable named **`jpsuppliers_df`**.\n",
    "\n",
    "**Notes:**\n",
    "- Use the `pd.read_sql()` method to execute the query and load the results into the DataFrame.\n",
    "- Make sure that the database connection is made using appropriate credentials. The connection object is given, please do not make changes to it unless necessary.\n",
    "- Ensure the SQL query includes proper case sensitivity for string literals (i.e., `'Japan'` with capital \"J\").\n",
    "\n"
   ]
  },
  {
   "cell_type": "code",
   "execution_count": 21,
   "metadata": {
    "nbgrader": {
     "grade": false,
     "grade_id": "Class10_Ans",
     "locked": false,
     "schema_version": 1,
     "solution": true
    }
   },
   "outputs": [
    {
     "data": {
      "text/html": [
       "<div>\n",
       "<style scoped>\n",
       "    .dataframe tbody tr th:only-of-type {\n",
       "        vertical-align: middle;\n",
       "    }\n",
       "\n",
       "    .dataframe tbody tr th {\n",
       "        vertical-align: top;\n",
       "    }\n",
       "\n",
       "    .dataframe thead th {\n",
       "        text-align: right;\n",
       "    }\n",
       "</style>\n",
       "<table border=\"1\" class=\"dataframe\">\n",
       "  <thead>\n",
       "    <tr style=\"text-align: right;\">\n",
       "      <th></th>\n",
       "      <th>supplier_id</th>\n",
       "      <th>company_name</th>\n",
       "      <th>contact_name</th>\n",
       "      <th>contact_title</th>\n",
       "      <th>address</th>\n",
       "      <th>city</th>\n",
       "      <th>region</th>\n",
       "      <th>postal_code</th>\n",
       "      <th>country</th>\n",
       "      <th>phone</th>\n",
       "      <th>fax</th>\n",
       "      <th>homepage</th>\n",
       "    </tr>\n",
       "  </thead>\n",
       "  <tbody>\n",
       "    <tr>\n",
       "      <th>0</th>\n",
       "      <td>4</td>\n",
       "      <td>Tokyo Traders</td>\n",
       "      <td>Yoshi Nagase</td>\n",
       "      <td>Marketing Manager</td>\n",
       "      <td>9-8 Sekimai Musashino-shi</td>\n",
       "      <td>Tokyo</td>\n",
       "      <td>None</td>\n",
       "      <td>100</td>\n",
       "      <td>Japan</td>\n",
       "      <td>(03) 3555-5011</td>\n",
       "      <td>None</td>\n",
       "      <td>None</td>\n",
       "    </tr>\n",
       "    <tr>\n",
       "      <th>1</th>\n",
       "      <td>6</td>\n",
       "      <td>Mayumi's</td>\n",
       "      <td>Mayumi Ohno</td>\n",
       "      <td>Marketing Representative</td>\n",
       "      <td>92 Setsuko Chuo-ku</td>\n",
       "      <td>Osaka</td>\n",
       "      <td>None</td>\n",
       "      <td>545</td>\n",
       "      <td>Japan</td>\n",
       "      <td>(06) 431-7877</td>\n",
       "      <td>None</td>\n",
       "      <td>Mayumi's (on the World Wide Web)#http://www.mi...</td>\n",
       "    </tr>\n",
       "  </tbody>\n",
       "</table>\n",
       "</div>"
      ],
      "text/plain": [
       "   supplier_id   company_name  contact_name             contact_title  \\\n",
       "0            4  Tokyo Traders  Yoshi Nagase         Marketing Manager   \n",
       "1            6       Mayumi's   Mayumi Ohno  Marketing Representative   \n",
       "\n",
       "                     address   city region postal_code country  \\\n",
       "0  9-8 Sekimai Musashino-shi  Tokyo   None         100   Japan   \n",
       "1         92 Setsuko Chuo-ku  Osaka   None         545   Japan   \n",
       "\n",
       "            phone   fax                                           homepage  \n",
       "0  (03) 3555-5011  None                                               None  \n",
       "1   (06) 431-7877  None  Mayumi's (on the World Wide Web)#http://www.mi...  "
      ]
     },
     "execution_count": 21,
     "metadata": {},
     "output_type": "execute_result"
    }
   ],
   "source": [
    "jpsuppliers_df = None  \n",
    "\n",
    "connection = pg.connect(host = 'localhost',\n",
    "                       database = 'northwind',\n",
    "                       user = 'postgres',\n",
    "                       password = 'codio')\n",
    "sql = None\n",
    "### BEGIN SOLUTION\n",
    "sql = \"select * from suppliers WHERE country = 'Japan'\"\n",
    "jpsuppliers_df = pd.read_sql(sql, con=connection)\n",
    "### END SOLUTION\n",
    "#Answer test\n",
    "jpsuppliers_df.head()"
   ]
  },
  {
   "cell_type": "code",
   "execution_count": 22,
   "metadata": {
    "nbgrader": {
     "grade": true,
     "grade_id": "Class10_Tests",
     "locked": true,
     "points": 5,
     "schema_version": 1,
     "solution": false
    }
   },
   "outputs": [],
   "source": [
    "\n",
    "### BEGIN HIDDEN TESTS\n",
    "connection_ = pg.connect(host = 'localhost',\n",
    "                       database = 'northwind',\n",
    "                       user = 'postgres',\n",
    "                       password = 'codio')\n",
    "sql_ = \"select * from suppliers WHERE country = 'Japan'\"\n",
    "jpsuppliers_df_ = pd.read_sql(sql_, con=connection_)\n",
    "\n",
    "from pandas.testing import assert_frame_equal\n",
    "assert_frame_equal(jpsuppliers_df_, jpsuppliers_df)\n",
    "### END HIDDEN TESTS\n"
   ]
  }
 ],
 "metadata": {
  "celltoolbar": "Create Assignment",
  "kernelspec": {
   "display_name": "Python 3",
   "language": "python",
   "name": "python3"
  },
  "language_info": {
   "codemirror_mode": {
    "name": "ipython",
    "version": 3
   },
   "file_extension": ".py",
   "mimetype": "text/x-python",
   "name": "python",
   "nbconvert_exporter": "python",
   "pygments_lexer": "ipython3",
   "version": "3.6.9"
  }
 },
 "nbformat": 4,
 "nbformat_minor": 4
}
