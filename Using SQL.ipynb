{
 "cells": [
  {
   "cell_type": "markdown",
   "metadata": {
    "nbgrader": {
     "grade": false,
     "grade_id": "cell-5e4e95933a6caf1a",
     "locked": true,
     "schema_version": 1,
     "solution": false
    }
   },
   "source": [
    "# Required end-of-module assignment: Solving real-world problems with SQL\n",
    "---\n",
    "\n",
    "## Overview\n",
    "\n",
    "In this assignment, you will bring together all the skills you have learned in Module 6.\n",
    "\n",
    "This assignment is designed to build your familiarity and comfort coding in Python while also helping you review key topics from each module. As you progress through the assignment, questions will get increasingly more complex. It is important that you adopt a programmer's mindset when completing this activity. Remember to run your code from each cell before submitting your activity, as doing so will give you a chance to fix any errors before submitting.\n",
    " \n",
    "Please refer to the database schemas provided in case you need more details about the database schema.\n",
    " \n",
    "### Learning outcomes addressed\n",
    "- Explore a new database.\n",
    "- Develop complex queries incrementally.\n",
    "- Interface with SQL databases from Python."
   ]
  },
  {
   "cell_type": "markdown",
   "metadata": {
    "nbgrader": {
     "grade": false,
     "grade_id": "Index",
     "locked": true,
     "schema_version": 1,
     "solution": false
    }
   },
   "source": [
    "\n",
    "\n",
    "## Index:\n",
    "\n",
    "- [Question 1](#Question-1)\n",
    "- [Question 2](#Question-2)\n",
    "- [Question 3](#Question-3)\n",
    "- [Question 4](#Question-4)\n",
    "- [Question 5](#Question-5)\n",
    "- [Question 6](#Question-6)\n",
    "- [Question 7](#Question-7)\n",
    "- [Question 8](#Question-8)\n",
    "- [Question 9](#Question-9)\n",
    "- [Question 10](#Question-10)"
   ]
  },
  {
   "cell_type": "markdown",
   "metadata": {
    "nbgrader": {
     "grade": false,
     "grade_id": "intro_import",
     "locked": true,
     "schema_version": 1,
     "solution": false
    }
   },
   "source": [
    "Run the cell below to import the required Python libraries."
   ]
  },
  {
   "cell_type": "code",
   "execution_count": 2,
   "metadata": {
    "nbgrader": {
     "grade": false,
     "grade_id": "imports1",
     "locked": true,
     "schema_version": 1,
     "solution": false
    }
   },
   "outputs": [
    {
     "ename": "SyntaxError",
     "evalue": "invalid syntax (2512051848.py, line 2)",
     "output_type": "error",
     "traceback": [
      "\u001b[0;36m  Cell \u001b[0;32mIn[2], line 2\u001b[0;36m\u001b[0m\n\u001b[0;31m    which python\u001b[0m\n\u001b[0m          ^\u001b[0m\n\u001b[0;31mSyntaxError\u001b[0m\u001b[0;31m:\u001b[0m invalid syntax\n"
     ]
    }
   ],
   "source": [
    "import pandas as pd\n",
    "import psycopg2 as pg\n",
    "import numpy as np\n",
    "import matplotlib.pyplot as plt\n",
    "%matplotlib inline"
   ]
  },
  {
   "cell_type": "markdown",
   "metadata": {
    "nbgrader": {
     "grade": false,
     "grade_id": "intro_connection",
     "locked": true,
     "schema_version": 1,
     "solution": false
    }
   },
   "source": [
    "Run the cell below to create a connection to the **dvdrental** database."
   ]
  },
  {
   "cell_type": "code",
   "execution_count": 3,
   "metadata": {
    "nbgrader": {
     "grade": false,
     "grade_id": "connection_db",
     "locked": true,
     "schema_version": 1,
     "solution": false
    }
   },
   "outputs": [
    {
     "ename": "NameError",
     "evalue": "name 'pg' is not defined",
     "output_type": "error",
     "traceback": [
      "\u001b[0;31m---------------------------------------------------------------------------\u001b[0m",
      "\u001b[0;31mNameError\u001b[0m                                 Traceback (most recent call last)",
      "Cell \u001b[0;32mIn[3], line 1\u001b[0m\n\u001b[0;32m----> 1\u001b[0m connection \u001b[38;5;241m=\u001b[39m pg\u001b[38;5;241m.\u001b[39mconnect(host \u001b[38;5;241m=\u001b[39m \u001b[38;5;124m'\u001b[39m\u001b[38;5;124mlocalhost\u001b[39m\u001b[38;5;124m'\u001b[39m,\n\u001b[1;32m      2\u001b[0m                         database \u001b[38;5;241m=\u001b[39m \u001b[38;5;124m'\u001b[39m\u001b[38;5;124mdvdrental\u001b[39m\u001b[38;5;124m'\u001b[39m,\n\u001b[1;32m      3\u001b[0m                         user \u001b[38;5;241m=\u001b[39m \u001b[38;5;124m'\u001b[39m\u001b[38;5;124mpostgres\u001b[39m\u001b[38;5;124m'\u001b[39m,\n\u001b[1;32m      4\u001b[0m                         password \u001b[38;5;241m=\u001b[39m \u001b[38;5;124m'\u001b[39m\u001b[38;5;124mcodio\u001b[39m\u001b[38;5;124m'\u001b[39m)\n",
      "\u001b[0;31mNameError\u001b[0m: name 'pg' is not defined"
     ]
    }
   ],
   "source": [
    "connection = pg.connect(host = 'localhost',\n",
    "                        database = 'dvdrental',\n",
    "                        user = 'postgres',\n",
    "                        password = 'codio')"
   ]
  },
  {
   "cell_type": "markdown",
   "metadata": {
    "nbgrader": {
     "grade": false,
     "grade_id": "Q1_description",
     "locked": true,
     "schema_version": 1,
     "solution": false
    }
   },
   "source": [
    "###### [Back to top](#Index:) \n",
    "\n",
    "### Question 1\n",
    "\n",
    "**Perform the following task using the `connection` defined above:**\n",
    "\n",
    "- Create a **cursor** object from the `connection`.\n",
    "- Use the cursor to **execute the following SQL query** stored in the variable `query` using the cursor's `execute` method.:\n",
    "  ```sql\n",
    "  SELECT * FROM customer LIMIT 5;\n",
    "  ```\n",
    "- Fetch the **first row only** from the result set using `.fetchone()`.\n",
    "- Assign the result (a single tuple) to a variable named **`ans1`**.\n",
    "- Close the cursor after fetching the result.\n",
    "\n",
    "**Note:**\n",
    "- Do not convert the result into a DataFrame. Simply return the raw row (a tuple) from the query."
   ]
  },
  {
   "cell_type": "code",
   "execution_count": null,
   "metadata": {
    "nbgrader": {
     "grade": false,
     "grade_id": "Class1_Ans",
     "locked": false,
     "schema_version": 1,
     "solution": true
    }
   },
   "outputs": [],
   "source": [
    "ans1 = None\n",
    "query = 'SELECT * FROM customer LIMIT 5' \n",
    "### BEGIN SOLUTION\n",
    "cursor = connection.cursor()\n",
    "cursor.execute(query)\n",
    "ans1 = cursor.fetchone()\n",
    "cursor.close()\n",
    "### END SOLUTION\n",
    "#Answer test\n",
    "print(ans1)"
   ]
  },
  {
   "cell_type": "markdown",
   "metadata": {
    "nbgrader": {
     "grade": false,
     "grade_id": "Q2_Description",
     "locked": true,
     "schema_version": 1,
     "solution": false
    }
   },
   "source": [
    "###### [Back to top](#Index:) \n",
    "\n",
    "### Question 2\n",
    "\n",
    "**Perform the following tasks:**\n",
    "\n",
    "- Using the **connection** defined above:\n",
    "  - Execute the following SQL query using a cursor:\n",
    "    ```sql\n",
    "    SELECT * FROM film ORDER BY film_id DESC LIMIT 10;\n",
    "    ```\n",
    "  - Fetch **all** rows from the result set using `.fetchall()`.\n",
    "  - Assign the result (a list of tuples) to a variable named **`ans2`**.\n",
    "  - Close the cursor after fetching the data.\n",
    "\n",
    "**Note:**  \n",
    "- The output should be a list of tuples, where each tuple represents a row from the `film` table.\n",
    "\n"
   ]
  },
  {
   "cell_type": "code",
   "execution_count": null,
   "metadata": {
    "nbgrader": {
     "grade": false,
     "grade_id": "Class2_Ans",
     "locked": false,
     "schema_version": 1,
     "solution": true
    }
   },
   "outputs": [],
   "source": [
    "ans2 = None\n",
    "query = 'SELECT * FROM film ORDER BY film_id DESC LIMIT 10;'  \n",
    "### BEGIN SOLUTION\n",
    "cursor = connection.cursor()\n",
    "cursor.execute(query)\n",
    "ans2 = cursor.fetchall()\n",
    "cursor.close()\n",
    "### END SOLUTION\n",
    "#Answer test\n",
    "print(ans2)"
   ]
  },
  {
   "cell_type": "markdown",
   "metadata": {
    "nbgrader": {
     "grade": false,
     "grade_id": "Q3_Description",
     "locked": true,
     "schema_version": 1,
     "solution": false
    }
   },
   "source": [
    "###### [Back to top](#Index:) \n",
    "\n",
    "### Question 3\n",
    "\n",
    "**Perform the following tasks:**\n",
    "\n",
    "- Define a function called **`query`** that takes the following parameters:\n",
    "  - `query`: SQL query string\n",
    "  - `host`: the hostname (e.g., `'localhost'`)\n",
    "  - `database`: name of the database to connect to\n",
    "  - `user`: the database username\n",
    "  - `password`: the password for the user\n",
    "\n",
    "- Inside the function:\n",
    "  - Create a connection to the database using `pg.connect()`.\n",
    "  - Create a cursor from the connection.\n",
    "  - Execute the query using the `.execute()` method.\n",
    "  - Fetch **all** the results using the `.fetchall()` method.\n",
    "  - Close the **cursor** before returning the results.\n",
    "  - Optionally close the **connection** as well to free resources.\n",
    "\n",
    "```python\n",
    "def query(query, host, database, user, password):\n",
    "    # Connect to the database    \n",
    "    # Execute the query\n",
    "    # Fetch all results\n",
    "    # Close the cursor and connection\n",
    "    # Return all results from the query\n",
    "```\n",
    "\n",
    "\n",
    "- Test your function by connecting to:\n",
    "  - the `dvdrental` database\n",
    "  - the `world` database\n",
    "- Print results for sample queries from both.\n",
    " "
   ]
  },
  {
   "cell_type": "code",
   "execution_count": null,
   "metadata": {
    "nbgrader": {
     "grade": false,
     "grade_id": "Class3_Ans",
     "locked": false,
     "schema_version": 1,
     "solution": true
    }
   },
   "outputs": [],
   "source": [
    "def query(query, host, database, user, password):       \n",
    "### BEGIN SOLUTION\n",
    "    connection = pg.connect(host = host,\n",
    "                        database = database,\n",
    "                        user = user,\n",
    "                        password = password)\n",
    "    cursor = connection.cursor()\n",
    "    cursor.execute(query)\n",
    "    returnResults = cursor.fetchall()\n",
    "    cursor.close()\n",
    "    return returnResults\n",
    "### END SOLUTION\n",
    "#Answer test\n",
    "print(query(\"select count(*) from customer\", \"localhost\", \"dvdrental\", \"postgres\", \"codio\"))\n",
    "# Test using the world database\n",
    "print(query(\"select count(*) from country\", \"localhost\", \"world\", \"postgres\", \"codio\"))"
   ]
  },
  {
   "cell_type": "markdown",
   "metadata": {
    "nbgrader": {
     "grade": false,
     "grade_id": "Q4_Description",
     "locked": true,
     "schema_version": 1,
     "solution": false
    }
   },
   "source": [
    "###### [Back to top](#Index:) \n",
    "\n",
    "### Question 4\n",
    "\n",
    "**Perform the following tasks:**\n",
    "\n",
    "- Using the **dvdrental** database, write a SQL query to display the **top 10 customers** who have made the most rentals.\n",
    "- Specifically:\n",
    "  - Select the `customer_id` from the `customer` table and the total number of rentals they have made.\n",
    "  - Perform an **INNER JOIN** between the `customer` and `rental` tables on `customer_id` to **include only customers who have made rentals**.\n",
    "  - Use `COUNT(*)` to count the number of rentals per customer and label this column as `rental_count`.\n",
    "  - Group the results by `customer.customer_id`.\n",
    "  - Order the results in **descending order** of `rental_count`.\n",
    "  - Limit the output to **10 records only**.\n",
    "- Assign the SQL query string to a variable called `sql`.\n",
    "- Use your previously defined `query()` function to execute the query and assign the output to a variable called `result`. The code for this point is already given.\n",
    "\n",
    "**Hint:** Use a multi-line SQL string enclosed in triple quotes `'''` for readability. Like:\n",
    "\n",
    "```python\n",
    "sql = '''\n",
    "your query here\n",
    "'''\n",
    "```\n"
   ]
  },
  {
   "cell_type": "code",
   "execution_count": null,
   "metadata": {
    "nbgrader": {
     "grade": false,
     "grade_id": "Class4_Ans",
     "locked": false,
     "schema_version": 1,
     "solution": true
    }
   },
   "outputs": [],
   "source": [
    "sql = None        \n",
    "### BEGIN SOLUTION\n",
    "sql = '''SELECT customer.customer_id, COUNT(*) AS rental_count \n",
    "FROM customer INNER JOIN rental\n",
    "ON rental.customer_id = customer.customer_id\n",
    "GROUP BY customer.customer_id\n",
    "ORDER BY rental_count DESC\n",
    "LIMIT 10'''\n",
    "### END SOLUTION\n",
    "result = query(sql, \"localhost\" ,\"dvdrental\", \"postgres\", \"codio\")\n",
    "print(result)"
   ]
  },
  {
   "cell_type": "markdown",
   "metadata": {
    "nbgrader": {
     "grade": false,
     "grade_id": "Q13_Description",
     "locked": true,
     "schema_version": 1,
     "solution": false
    }
   },
   "source": [
    "###### [Back to top](#Index:) \n",
    "\n",
    "\n",
    "### Question 5\n",
    "\n",
    "**Perform the following tasks:**\n",
    "\n",
    "- Using the **world** database, explore the potential relationship between life expectancy and gross national product (GNP) of countries.\n",
    "- Follow the steps below:\n",
    "  - Write a SQL query that selects the following two columns from the `country` table:\n",
    "    - `lifeexpectancy`\n",
    "    - `gnp`\n",
    "- Use your previously defined `query()` function to execute this SQL query.\n",
    "```python\n",
    "query(sql, \"localhost\" ,\"world\", \"postgres\", \"codio\")\n",
    "```\n",
    "- Assign the result of the function call to a variable named **`life_gnp`**.\n",
    "\n",
    "**Note:**  \n",
    "Refer to the country table schema here for column names:  [World Database Country Table](https://dataedo.com/samples/html/World_PostgreSQL/doc/World_(PostgreSQL_database)_11/modules/World_database_diagram_106/tables/public_country_3939.html)\n"
   ]
  },
  {
   "cell_type": "code",
   "execution_count": null,
   "metadata": {
    "nbgrader": {
     "grade": false,
     "grade_id": "Class5_Ans",
     "locked": false,
     "schema_version": 1,
     "solution": true
    }
   },
   "outputs": [],
   "source": [
    "import psycopg2 as pg\n",
    "\n",
    "life_gnp = None\n",
    "sql = None\n",
    "### BEGIN SOLUTION\n",
    "sql = \"SELECT lifeexpectancy, gnp FROM country\"\n",
    "life_gnp = query(sql, \"localhost\" ,\"world\", \"postgres\", \"codio\") \n",
    "### END SOLUTION\n",
    "#Answer test\n",
    "print(life_gnp)"
   ]
  },
  {
   "cell_type": "markdown",
   "metadata": {
    "nbgrader": {
     "grade": false,
     "grade_id": "Q6_Description",
     "locked": true,
     "schema_version": 1,
     "solution": false
    }
   },
   "source": [
    "###### [Back to top](#Index:) \n",
    "\n",
    "### Question 6\n",
    "\n",
    "**Perform the following tasks:**\n",
    "\n",
    "- From the data stored in **`life_gnp`** (in task 5 - a list of tuples), extract individual columns using list comprehensions:\n",
    "  - Create a list named **`lifes`** that contains only the life expectancy values (first element of each tuple).\n",
    "  - Create a list named **`gnps`** that contains only the gross national product values (second element of each tuple).\n",
    "\n",
    "**Hint:**  \n",
    "Use list comprehension syntax.  \n",
    "Example:  \n",
    "```python\n",
    "lifes = [x[0] for x in life_gnp]\n",
    "```"
   ]
  },
  {
   "cell_type": "code",
   "execution_count": null,
   "metadata": {
    "nbgrader": {
     "grade": false,
     "grade_id": "Class6_Ans",
     "locked": false,
     "schema_version": 1,
     "solution": true
    }
   },
   "outputs": [],
   "source": [
    "import psycopg2 as pg\n",
    "\n",
    "lifes = None\n",
    "gnps = None\n",
    "### BEGIN SOLUTION\n",
    "lifes = [x[0] for x in life_gnp]\n",
    "gnps = [x[1] for x in life_gnp]\n",
    "### END SOLUTION\n",
    "#Answer test\n",
    "print(lifes)\n",
    "print(gnps)"
   ]
  },
  {
   "cell_type": "markdown",
   "metadata": {
    "nbgrader": {
     "grade": false,
     "grade_id": "Q7_Description",
     "locked": true,
     "schema_version": 1,
     "solution": false
    }
   },
   "source": [
    "###### [Back to top](#Index:) \n",
    "\n",
    "### Question 7\n",
    "\n",
    "**Perform the following task:**\n",
    "\n",
    "- Create a scatter plot of the data using `matplotlib`.\n",
    "- Plot the data using:\n",
    "  - The **x-axis** for the life expectancy values (`lifes`)\n",
    "  - The **y-axis** for the gnp (gross national product) values (`gnps`)\n",
    "- Label the axes:\n",
    "  - X-axis as `'Life'`\n",
    "  - Y-axis as `'GNP'`\n",
    "- Save the plot as `\"results/plot7.png\"`\n",
    "\n",
    "**Note:**  \n",
    "- Do **not** add or update any other attributes (such as title, grid, color, style, etc.) unless specified in a later task.\n",
    "- Ensure the output file is saved with the **exact** filename and path as mentioned.\n",
    "- The plot will be **strictly validated**, and additional attributes or incorrect filenames may lead to validation issues.\n"
   ]
  },
  {
   "cell_type": "code",
   "execution_count": null,
   "metadata": {
    "nbgrader": {
     "grade": false,
     "grade_id": "Class7_Ans",
     "locked": false,
     "schema_version": 1,
     "solution": true
    }
   },
   "outputs": [],
   "source": [
    "import psycopg2 as pg\n",
    "import matplotlib.pyplot as plt       \n",
    "### BEGIN SOLUTION\n",
    "plt.scatter(lifes, gnps)\n",
    "plt.xlabel('Life')\n",
    "plt.ylabel('GNP')\n",
    "plt.savefig(\"results/plot7.png\")\n",
    "### END SOLUTION\n"
   ]
  },
  {
   "cell_type": "markdown",
   "metadata": {
    "nbgrader": {
     "grade": false,
     "grade_id": "Q8_Description",
     "locked": true,
     "schema_version": 1,
     "solution": false
    }
   },
   "source": [
    "###### [Back to top](#Index:) \n",
    "\n",
    "### Question 8\n",
    "\n",
    "Perform the following task:\n",
    "\n",
    "- Based on the scatter plot from **Question 7**,\n",
    "- Zoom into the scatter plot created in the previous question by setting the plot limits:\n",
    "```python\n",
    "plt.xlim(40, 85)\n",
    "plt.ylim(0, 100000)\n",
    "```\n",
    "- Save the plot as `\"results/plot8.png\"`\n",
    "\n",
    "\n",
    "**Note:**\n",
    "- You must continue from the same base plot used in Question 7.\n",
    "```python\n",
    "plt.scatter(lifes, gnps)\n",
    "plt.xlabel('Life')\n",
    "plt.ylabel('GNP')\n",
    "```\n",
    "- Do not add any extra plot elements or labels beyond what was specified earlier.\n",
    "- Plot validation will fail if additional components are added.\n",
    "- The saved file must have the exact filename and location for successful validation."
   ]
  },
  {
   "cell_type": "code",
   "execution_count": null,
   "metadata": {
    "nbgrader": {
     "grade": false,
     "grade_id": "Class8_Ans",
     "locked": false,
     "schema_version": 1,
     "solution": true
    }
   },
   "outputs": [],
   "source": [
    "import psycopg2 as pg\n",
    "import matplotlib.pyplot as plt       \n",
    "### BEGIN SOLUTION\n",
    "# then zoom in\n",
    "plt.scatter(lifes,gnps)\n",
    "plt.xlabel('Life')\n",
    "plt.ylabel('GNP')\n",
    "plt.xlim(40,85)\n",
    "plt.ylim(0,100000)\n",
    "plt.savefig(\"results/plot8.png\")\n",
    "plt.close()\n",
    "### END SOLUTION\n"
   ]
  },
  {
   "cell_type": "markdown",
   "metadata": {
    "nbgrader": {
     "grade": false,
     "grade_id": "Q9_Description",
     "locked": true,
     "schema_version": 1,
     "solution": false
    }
   },
   "source": [
    "###### [Back to top](#Index:) \n",
    "\n",
    "### Question 9\n",
    "\n",
    "**Perform the following task:**\n",
    "\n",
    "- Use the following SQL query, which solves the **\"multiple winners problem\"** by identifying all customers who placed the highest number of rentals (orders):\n",
    "\n",
    "  ```sql\n",
    "  sql = '''WITH top_num_orders AS\n",
    "            (SELECT COUNT(*) AS num_orders\n",
    "            FROM customer INNER JOIN rental\n",
    "            ON customer.customer_id = rental.customer_id\n",
    "            GROUP BY customer.customer_id\n",
    "            ORDER BY num_orders DESC \n",
    "            LIMIT 1),\n",
    "            all_customer_orders AS \n",
    "              (SELECT customer.customer_id, COUNT(*) AS num_orders \n",
    "              FROM rental INNER JOIN customer\n",
    "              ON customer.customer_id = rental.customer_id \n",
    "              INNER JOIN top_num_orders\n",
    "              ON top_num_orders.num_orders = num_orders\n",
    "              GROUP BY customer.customer_id\n",
    "              ORDER BY num_orders DESC)\n",
    "            SELECT all_customer_orders.customer_id, top_num_orders.num_orders FROM all_customer_orders \n",
    "            INNER JOIN top_num_orders\n",
    "            ON all_customer_orders.num_orders = top_num_orders.num_orders'''\n",
    "  ```\n",
    "\n",
    "\n",
    "- Use the **connection** defined at the beginning of this assignment to run the query.\n",
    "- Load the results into a Pandas DataFrame and assign it to a variable named **`df`**.\n",
    "\n",
    "\n",
    "**Note:**\n",
    "\n",
    "- Use `pd.read_sql()` to run the query and load it directly into the DataFrame.\n",
    "- Make sure the resulting DataFrame contains both `customer_id` and `num_orders` columns as returned by the query.\n"
   ]
  },
  {
   "cell_type": "code",
   "execution_count": null,
   "metadata": {
    "nbgrader": {
     "grade": false,
     "grade_id": "Class9_Ans",
     "locked": false,
     "schema_version": 1,
     "solution": true
    }
   },
   "outputs": [],
   "source": [
    "df = None\n",
    "sql = '''WITH top_num_orders AS\n",
    "        (SELECT COUNT(*) AS num_orders\n",
    "        FROM customer INNER JOIN rental\n",
    "        ON customer.customer_id = rental.customer_id\n",
    "        GROUP BY customer.customer_id\n",
    "        ORDER BY num_orders DESC \n",
    "        LIMIT 1),\n",
    "        all_customer_orders AS \n",
    "          (SELECT customer.customer_id, COUNT(*) AS num_orders \n",
    "          FROM rental INNER JOIN customer\n",
    "          ON customer.customer_id = rental.customer_id \n",
    "          INNER JOIN top_num_orders\n",
    "          ON top_num_orders.num_orders = num_orders\n",
    "          GROUP BY customer.customer_id\n",
    "          ORDER BY num_orders DESC)\n",
    "        SELECT all_customer_orders.customer_id, top_num_orders.num_orders FROM all_customer_orders \n",
    "        INNER JOIN top_num_orders\n",
    "        ON all_customer_orders.num_orders = top_num_orders.num_orders'''\n",
    "\n",
    "### BEGIN SOLUTION\n",
    "df = pd.read_sql(sql, con=connection)\n",
    "### END SOLUTION\n",
    "#Answer test\n",
    "df.head()"
   ]
  },
  {
   "cell_type": "markdown",
   "metadata": {
    "nbgrader": {
     "grade": false,
     "grade_id": "Q10_Description",
     "locked": true,
     "schema_version": 1,
     "solution": false
    }
   },
   "source": [
    "###### [Back to top](#Index:) \n",
    "\n",
    "### Question 10\n",
    "\n",
    "**Perform the following tasks:**\n",
    "\n",
    "- Use the **northwind** database to create a DataFrame by executing an SQL query.\n",
    "- The query should select **all columns** from the `suppliers` table **where the `country` column value is equal to `'Japan'`**. Assign the query (in string format) to the variable **`sql`**.\n",
    "- Store the resulting data in a Pandas DataFrame and assign it to a variable named **`jpsuppliers_df`**.\n",
    "\n",
    "**Notes:**\n",
    "- Use the `pd.read_sql()` method to execute the query and load the results into the DataFrame.\n",
    "- Make sure that the database connection is made using appropriate credentials. The connection object is given, please do not make changes to it unless necessary.\n",
    "- Ensure the SQL query includes proper case sensitivity for string literals (i.e., `'Japan'` with capital \"J\").\n",
    "\n"
   ]
  },
  {
   "cell_type": "code",
   "execution_count": null,
   "metadata": {
    "nbgrader": {
     "grade": false,
     "grade_id": "Class10_Ans",
     "locked": false,
     "schema_version": 1,
     "solution": true
    }
   },
   "outputs": [],
   "source": [
    "jpsuppliers_df = None  \n",
    "\n",
    "connection = pg.connect(host = 'localhost',\n",
    "                       database = 'northwind',\n",
    "                       user = 'postgres',\n",
    "                       password = 'codio')\n",
    "sql = None\n",
    "### BEGIN SOLUTION\n",
    "sql = \"select * from suppliers WHERE country = 'Japan'\"\n",
    "jpsuppliers_df = pd.read_sql(sql, con=connection)\n",
    "### END SOLUTION\n",
    "#Answer test\n",
    "jpsuppliers_df.head()"
   ]
  }
 ],
 "metadata": {
  "celltoolbar": "Create Assignment",
  "kernelspec": {
   "display_name": "Python [conda env:base] *",
   "language": "python",
   "name": "conda-base-py"
  },
  "language_info": {
   "codemirror_mode": {
    "name": "ipython",
    "version": 3
   },
   "file_extension": ".py",
   "mimetype": "text/x-python",
   "name": "python",
   "nbconvert_exporter": "python",
   "pygments_lexer": "ipython3",
   "version": "3.13.5"
  }
 },
 "nbformat": 4,
 "nbformat_minor": 4
}
